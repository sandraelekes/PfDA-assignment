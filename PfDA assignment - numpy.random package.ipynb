{
 "cells": [
  {
   "cell_type": "markdown",
   "metadata": {},
   "source": [
    "# PROGRAMMING FOR DATA ANALYSIS - ASSIGNMENT 2020\n",
    "***"
   ]
  },
  {
   "cell_type": "markdown",
   "metadata": {},
   "source": [
    "# numpy.random package for Python\n",
    "***"
   ]
  },
  {
   "cell_type": "markdown",
   "metadata": {},
   "source": [
    "## Problem statement\n",
    "\n",
    "There are four distinct tasks to be carried out in your Jupyter notebook.\n",
    "1. Explain the overall purpose of the package.\n",
    "2. Explain the use of the “Simple random data” and “Permutations” functions.\n",
    "3. Explain the use and purpose of at least five “Distributions” functions.\n",
    "4. Explain the use of seeds in generating pseudorandom numbers. [1]\n",
    "***"
   ]
  },
  {
   "cell_type": "markdown",
   "metadata": {},
   "source": [
    "## Table of contents\n",
    "\n",
    "* [Purpose of numpy.random package](#purpose-of-numpy.random-package)\n",
    "    * [What is NumPy?](#what-is-numpy?)\n",
    "    * [numpy.random](#numpy.random)\n",
    "    \n",
    "***"
   ]
  },
  {
   "cell_type": "markdown",
   "metadata": {},
   "source": [
    "## Purpose of numpy.random package\n",
    "***"
   ]
  },
  {
   "cell_type": "markdown",
   "metadata": {},
   "source": [
    "### What is NumPy?\n",
    "***\n",
    "Before defining numpy.random package, it's important to mention what is NumPy."
   ]
  },
  {
   "cell_type": "markdown",
   "metadata": {},
   "source": [
    "NumPy (short for Numerical Python) is a Python library for working with multi-dimensional arrays. It was created by Travis Oliphant in 2005, by  merging  Numarray  into  Numeric. NumPy has evolved since, and became open source essential library for data structures, algorithms, and library glue needed for most scientific applications involving numerical data in Python.\\\n",
    "NumPy provides a convenient Python interface for working with multi-dimensional array data structures efficiently. NumPy arrays have a fixed size and are homogenous, which means that all elements must have the same type, but on the good side it has the computational efficiency and low-memory footprint . [2] [3] "
   ]
  },
  {
   "cell_type": "markdown",
   "metadata": {},
   "source": [
    "NumPy contains, among other things:\n",
    "\n",
    "* A fast and efficient multidimensional array object ndarray\n",
    "* Functions for performing element-wise computations with arrays or mathemati‐cal operations between arrays\n",
    "* Tools for reading and writing array-based datasets to disk\n",
    "* A mature C API to enable Python extensions and native C or C++ code to accessNumPy’s data structures and computational facilities\n",
    "* Linear algebra operations, Fourier transform, and random number generation [3]"
   ]
  },
  {
   "cell_type": "markdown",
   "metadata": {},
   "source": [
    "Importing NumPy library is simple:"
   ]
  },
  {
   "cell_type": "code",
   "execution_count": 1,
   "metadata": {},
   "outputs": [],
   "source": [
    "import numpy as np"
   ]
  },
  {
   "cell_type": "markdown",
   "metadata": {},
   "source": [
    "DataCamp also provided great cheat sheet on NumPy Basics. [4]"
   ]
  },
  {
   "cell_type": "markdown",
   "metadata": {},
   "source": [
    "![DataCamp NumPy cheat-sheet](https://miro.medium.com/max/1250/1*WdLjkLvQDo4uNmzd-0UCsQ.png)"
   ]
  },
  {
   "cell_type": "markdown",
   "metadata": {},
   "source": [
    "***\n",
    "### numpy.random\n",
    "***"
   ]
  },
  {
   "cell_type": "markdown",
   "metadata": {},
   "source": [
    "Random number does not mean a different number every time, it is something that can not be predicted logically. Random numbers generated through a generation algorithm are called pseudo random. [5]"
   ]
  },
  {
   "cell_type": "markdown",
   "metadata": {},
   "source": [
    "The *numpy.random* module supplements the built-in Python random with functions for efficiently generating whole arrays of sample values from many kinds of probability distributions. [3]\n",
    "\n",
    "Numpy’s random number routines produce pseudo random numbers using combinations of a BitGenerator to create sequences and a Generator to use those sequences to sample from different statistical distributions. [6]"
   ]
  },
  {
   "cell_type": "markdown",
   "metadata": {},
   "source": [
    "## References\n",
    "\n",
    "[1] [Brian McGinley. Programming for Data Analysis task.](https://github.com/brianmcgmit/ProgDA/raw/master/ProgDA_Assignment.pdf) \\\n",
    "[2] [Sebastian Raschka. Introduction to Artificial Neural Networks and Deep Learning with Applications in Python.](https://sebastianraschka.com/pdf/books/dlb/appendix_f_numpy-intro.pdf) \\\n",
    "[3] [Wes McKinney. Python for Data Analysis.](https://www.oreilly.com/library/view/python-for-data/9781449323592/ch04.html)\\\n",
    "[4] [DataCamp NumPy Cheat Sheet.](https://s3.amazonaws.com/assets.datacamp.com/blog_assets/Numpy_Python_Cheat_Sheet.pdf)\\\n",
    "[5] [w3school.com. Random numbers in NumPy.](https://www.w3schools.com/python/numpy_random.asp)\\\n",
    "[6] [numpy.org. Random sampling.](https://numpy.org/doc/stable/reference/random/index.html)"
   ]
  },
  {
   "cell_type": "code",
   "execution_count": null,
   "metadata": {},
   "outputs": [],
   "source": []
  }
 ],
 "metadata": {
  "kernelspec": {
   "display_name": "Python 3",
   "language": "python",
   "name": "python3"
  },
  "language_info": {
   "codemirror_mode": {
    "name": "ipython",
    "version": 3
   },
   "file_extension": ".py",
   "mimetype": "text/x-python",
   "name": "python",
   "nbconvert_exporter": "python",
   "pygments_lexer": "ipython3",
   "version": "3.8.3"
  }
 },
 "nbformat": 4,
 "nbformat_minor": 4
}
